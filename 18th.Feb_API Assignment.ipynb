{
  "metadata": {
    "kernelspec": {
      "name": "python",
      "display_name": "Python (Pyodide)",
      "language": "python"
    },
    "language_info": {
      "codemirror_mode": {
        "name": "python",
        "version": 3
      },
      "file_extension": ".py",
      "mimetype": "text/x-python",
      "name": "python",
      "nbconvert_exporter": "python",
      "pygments_lexer": "ipython3",
      "version": "3.8"
    }
  },
  "nbformat_minor": 4,
  "nbformat": 4,
  "cells": [
    {
      "cell_type": "markdown",
      "source": "Q1. What is an API? Give an example, where an API is used in real life.",
      "metadata": {}
    },
    {
      "cell_type": "markdown",
      "source": "Answer:-An API (Application Programming Interface) is a set of rules and protocols that allows different software applications to communicate with each other. APIs define the methods and data formats that applications can use to request and exchange information. They enable developers to integrate various services and functionalities into their applications without having to write everything from scratch.\n\nA common example of an API in real life is the use of the Google Maps API:\n\nGoogle Maps API:-\n1.Purpose: Allows developers to integrate Google Maps into their websites or applications.\n2.Functionality: Provides features such as displaying maps, adding markers, creating routes, and getting directions.\n\nUse Case:\n\n1.Ride-Sharing Apps: Applications like Uber and Ola use the Google Maps API to show the location of available cars, provide directions to drivers, and calculate the estimated time of arrival for passengers.\n2.Travel Websites: Websites like Airbnb use the Google Maps API to show the exact location of rental properties and nearby points of interest.\n\nBy using APIs, developers can leverage existing services to enhance their applications, saving time and resources while ensuring reliable and standardized functionality.",
      "metadata": {}
    },
    {
      "cell_type": "markdown",
      "source": "Q2. Give advantages and disadvantages of using API.",
      "metadata": {}
    },
    {
      "cell_type": "markdown",
      "source": "Answer:-The Adavantage of using APIs are as follows:-\n\nAdvantages of Using APIs:\n1.Easy Integration: Connects diverse software systems seamlessly.\n2.Automation: Enables tasks to be automated without manual input.\n3.Improved User Experience: Enhances apps by integrating external data/services.\n4.Scalability: Facilitates modular and scalable app architecture.\n5Access to Third-Party Services: Leverages external tools and features.\n6.Rapid Development: Speeds up app creation with pre-built components.\n7.Enhanced Security: Manages controlled data access and security.\n\nDisadvantages of Using APIs:\n1.Security Risks: Vulnerabilities from poor design or implementation.\n2.Complexity: Adds integration and maintenance complexity.\n3.Service Dependency: Relies on third-party availability/reliability.\n4.Limited Control: Constrained by API provider changes.\n5.Performance Overhead: Network requests can slow responses.\n6.Costs: May involve usage fees for some APIs.\n7.Compatibility Issues: Updates can cause breakages.\n\n1.Advantages: Ease of integration, increased efficiency, enhanced functionality, scalability, and standardization.\n2.Disadvantages: Dependency on external services, security risks, versioning issues, performance overhead, and potential costs.",
      "metadata": {}
    },
    {
      "cell_type": "markdown",
      "source": "Q3. What is a Web API? Differentiate between API and Web API.",
      "metadata": {}
    },
    {
      "cell_type": "markdown",
      "source": "Answer:-A Web API (Application Programming Interface) is a type of API that is accessible over the web using HTTP/HTTPS protocols. It allows different software systems to communicate and exchange data over the internet. Web APIs are commonly used to interact with web services, providing functionality to client applications such as web browsers, mobile apps, and other servers.\n\nDifferentiating Between API and Web API:\nAPI (General):-\nAn API is a set of rules and protocols for building and interacting with software applications. It defines the methods and data formats that applications can use to communicate with each other.\nAPIs can be used for various types of software interactions, including system-level functions, libraries, and services that don't necessarily operate over the web.\nExamples: Operating system APIs, libraries (e.g., math libraries), and device APIs.\n\nWeb API:\nA Web API is a specific type of API that is accessible over the web using HTTP/HTTPS protocols. It enables web services to communicate with client applications.\nWeb APIs are used to interact with web services, allowing data exchange and functionality access over the internet. They are commonly used in web development, mobile apps, and third-party integrations.\n\nExamples: RESTful APIs, SOAP APIs, and GraphQL APIs.\n\nAPI:\nGeneral concept.\nNot limited to web communication.\nUsed for various software interactions.\n\nWeb API:\nSpecific type of API for web communication.\nUses HTTP/HTTPS protocols.\nEnables interaction with web services.",
      "metadata": {}
    },
    {
      "cell_type": "markdown",
      "source": "Q4. Explain REST and SOAP Architecture. Mention shortcomings of SOAP.",
      "metadata": {}
    },
    {
      "cell_type": "markdown",
      "source": "Answer:-REST Stands for Representational State Transfer\nPrinciples: Stateless, client-server, cacheable, layered system, uniform interface, and optional code on demand.\nCommunication: Uses HTTP/HTTPS methods like GET, POST, PUT, DELETE.\nData Format: Commonly JSON or XML.\nFlexibility: Provides flexibility in data formats and communication.\n\nSOAP Stands for Simple Object Access Protocol)\nProtocol: A protocol for exchanging structured information using XML.\nStandards: Defined by W3C, supports WS-Security, WS-ReliableMessaging, and other WS-* standards.\nCommunication: Uses HTTP/HTTPS and SMTP.\nStructured: Strictly structured XML documents.\n\nShortcomings of SOAP\nComplexity:-SOAP is more complex due to strict standards and extensive features.\nPerformance Overhead:-The verbosity of XML and additional envelope structure increase message size, affecting performance.\nLess Flexibility:-SOAP primarily supports XML, while REST can use multiple formats.\nComplex Error Handling:-SOAP faults require structured XML handling, making it more cumbersome than HTTP status codes in REST.\n\nThis provides a concise comparison of REST and SOAP architectures, highlighting REST's simplicity and flexibility versus SOAP's structure and complexity.",
      "metadata": {}
    },
    {
      "cell_type": "markdown",
      "source": "Q5. Differentiate between REST and SOAP.",
      "metadata": {}
    },
    {
      "cell_type": "markdown",
      "source": "Answer:-Differentiate between REST and SOAP are as follows\n\nREST:-\n1.Protocol Type\nREST: An architectural style that uses standard web protocols, typically HTTP.\n2.Data Format\nPrimarily uses lightweight data formats such as JSON, but also supports XML, HTML, or plain text.\n3.Transport Protocols\nREST: Works over HTTP/HTTPS and uses standard HTTP methods like GET, POST, PUT, DELETE.\n4.Security\nREST: Relies on underlying web protocols for security (e.g., HTTPS) and may use OAuth or JWT for authentication.\n5.Use Cases\nREST: Preferred for web APIs, microservices, and lightweight applications where speed and scalability are key.\n\nSOAP:-\n1.Protocol Type\nSOAP: A protocol with a rigid set of rules based on XML messaging.\n2.Data Format\nSOAP: Strictly uses XML for requests and responses, which makes it more heavyweight.\n3.Transport Protocols\nSOAP: Works over various protocols like HTTP, SMTP, TCP, etc., providing more flexibility in transport.\n4.Security\nSOAP: Built-in security standards like WS-Security for message-level security, making it suitable for secure applications.\n5.Use Cases\nSOAP: Often used for enterprise-level web services requiring strong security, complex operations, or ACID compliance (e.g., banking transactions).",
      "metadata": {}
    }
  ]
}